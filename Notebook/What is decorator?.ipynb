{
 "cells": [
  {
   "cell_type": "markdown",
   "metadata": {},
   "source": [
    "# What is decorator?"
   ]
  },
  {
   "cell_type": "markdown",
   "metadata": {},
   "source": [
    "## Decorator is a single argument callable object\n",
    "\n",
    "```python\n",
    "def decorator(func):\n",
    "    # do something\n",
    "    return ...\n",
    "\n",
    "@decorator\n",
    "def a_func(*args, **kwargs):\n",
    "    return ..\n",
    "\n",
    "result = a_func(*args, **kwargs)\n",
    "```\n",
    "\n",
    "is actuall doing:\n",
    "\n",
    "```python\n",
    "def decorator(func):\n",
    "    # do something\n",
    "    return ...\n",
    "\n",
    "def a_func(*args, **kwargs):\n",
    "    return ..\n",
    "\n",
    "result = decorator(a_func)(*args, **kwargs)\n",
    "```\n",
    "\n",
    "**Any object (usually be a function) taking a function object as the only argument, and returns another function** can be ``Decorator``."
   ]
  },
  {
   "cell_type": "markdown",
   "metadata": {},
   "source": [
    "## Decorator function been executed when it is been used\n",
    "\n",
    "The following two syntax are the **same**."
   ]
  },
  {
   "cell_type": "code",
   "execution_count": 1,
   "metadata": {},
   "outputs": [],
   "source": [
    "from __future__ import print_function\n",
    "\n",
    "\n",
    "def print_result(func):\n",
    "    def wrapper(*args, **kwargs):\n",
    "        result = func(*args, **kwargs)\n",
    "        print(\"result is {}\".format(result))\n",
    "        return result\n",
    "    return wrapper"
   ]
  },
  {
   "cell_type": "code",
   "execution_count": 14,
   "metadata": {},
   "outputs": [
    {
     "name": "stdout",
     "output_type": "stream",
     "text": [
      "result is 3\n"
     ]
    },
    {
     "data": {
      "text/plain": [
       "3"
      ]
     },
     "execution_count": 14,
     "metadata": {},
     "output_type": "execute_result"
    }
   ],
   "source": [
    "# syntax 1\n",
    "\n",
    "@print_result\n",
    "def add_two(a, b):\n",
    "    return a + b\n",
    "\n",
    "add_two(1, 2)"
   ]
  },
  {
   "cell_type": "code",
   "execution_count": 15,
   "metadata": {},
   "outputs": [
    {
     "name": "stdout",
     "output_type": "stream",
     "text": [
      "result is 3\n"
     ]
    },
    {
     "data": {
      "text/plain": [
       "3"
      ]
     },
     "execution_count": 15,
     "metadata": {},
     "output_type": "execute_result"
    }
   ],
   "source": [
    "# syntax 2\n",
    "\n",
    "def add_two(a, b):\n",
    "    return a + b\n",
    "\n",
    "add_two = print_result(add_two)\n",
    "\n",
    "add_two(1, 2)"
   ]
  },
  {
   "cell_type": "markdown",
   "metadata": {},
   "source": [
    "In the second case, function ``add_two`` are changed before it is been called. In other word, in the first case, function ``add_two`` are also changed at the moment when it is been defined. The ``add_two = print_result(add_two)`` **has been executed once before it is been actually used**."
   ]
  },
  {
   "cell_type": "markdown",
   "metadata": {},
   "source": [
    "## A class can be a decorator too\n",
    "\n",
    "Since any callable object can be a decorator, a class can be decorator too."
   ]
  },
  {
   "cell_type": "code",
   "execution_count": 26,
   "metadata": {},
   "outputs": [],
   "source": [
    "from __future__ import print_function\n",
    "\n",
    "class PrintResult(object):\n",
    "    def __init__(self, func):\n",
    "        self._func = func\n",
    "    \n",
    "    def __call__(self, *args, **kwargs):\n",
    "        result = self._func(*args, **kwargs)\n",
    "        print(\"result is {}\".format(result))\n",
    "        return result\n",
    "    \n",
    "@PrintResult\n",
    "def add_two(a, b):\n",
    "    return a + b"
   ]
  },
  {
   "cell_type": "code",
   "execution_count": 27,
   "metadata": {},
   "outputs": [
    {
     "name": "stdout",
     "output_type": "stream",
     "text": [
      "result is 3\n"
     ]
    },
    {
     "data": {
      "text/plain": [
       "3"
      ]
     },
     "execution_count": 27,
     "metadata": {},
     "output_type": "execute_result"
    }
   ],
   "source": [
    "add_two(1, 2)"
   ]
  },
  {
   "cell_type": "markdown",
   "metadata": {},
   "source": [
    "What happened under the hood is:\n",
    "\n",
    "```python\n",
    "def add_two(a, b):\n",
    "    return a + b\n",
    "\n",
    "instance_print_result = PrintResult(add_two) # now add_two is not a function anymore, it is an instance of ``PrintResult``.\n",
    "add_two = instance_print_result\n",
    "\n",
    "add_two(1, 2) # instance_print_result.__call__(1, 2)\n",
    "```"
   ]
  },
  {
   "cell_type": "markdown",
   "metadata": {},
   "source": [
    "It is little bit harder to apply decorator to both simple function and **a method**."
   ]
  },
  {
   "cell_type": "code",
   "execution_count": 1,
   "metadata": {},
   "outputs": [
    {
     "name": "stdout",
     "output_type": "stream",
     "text": [
      "result is 3\n"
     ]
    },
    {
     "data": {
      "text/plain": [
       "3"
      ]
     },
     "execution_count": 1,
     "metadata": {},
     "output_type": "execute_result"
    }
   ],
   "source": [
    "from __future__ import print_function\n",
    "import types\n",
    "\n",
    "\n",
    "class PrintResult(object):\n",
    "    def __init__(self, func):\n",
    "        self._func = func\n",
    "\n",
    "    def __call__(self, *args, **kwargs):\n",
    "        result = self._func(*args, **kwargs)\n",
    "        print(\"result is {}\".format(result))\n",
    "        return result\n",
    "\n",
    "    def __get__(self, instance, cls):\n",
    "        if instance is None:\n",
    "            return self\n",
    "        else:\n",
    "            return types.MethodType(self, instance)\n",
    "\n",
    "\n",
    "class Calculator(object):\n",
    "    @PrintResult\n",
    "    def add_two(self, a, b):\n",
    "        return a + b\n",
    "\n",
    "\n",
    "cal = Calculator()\n",
    "cal.add_two(1, 2)"
   ]
  },
  {
   "cell_type": "markdown",
   "metadata": {},
   "source": [
    "If we don't define ``PrintResult.__get__``, let's see what gonna happen:\n",
    "\n",
    "```python\n",
    "class Calculator(object):\n",
    "    def add_two(self, a, b):\n",
    "        return a + b\n",
    "\n",
    "Calculator.add_two = PrintResult(Calculator.add_two)\n",
    "\n",
    "cal = Calculator()\n",
    "cal.add_two(1, 2)\n",
    "```\n",
    "\n",
    "``cal.add_two`` now is an instance of ``PrintResult``. ``cal.add_two._func`` is actually ``Calculator.add_two``, which has three arguments, and the first one is the ``self`` to represent ``Calculator`` instance. So the ``cal.add_two(1, 2)`` is actually doing ``cal.add_two._func``, which is ``Calculator.add_two(1, 2)`` **watch close, it is not** ``Calculator().add_two(1, 2)``. **It requires 3 argument but it only get two**!\n",
    "\n",
    "```python\n",
    "class PrintResult(object):\n",
    "    ...\n",
    "    \n",
    "    def __get__(self, instance, cls):\n",
    "        if instance is None:\n",
    "            return self\n",
    "        else:\n",
    "            return types.MethodType(self, instance)\n",
    "```\n",
    "\n",
    "By adding a ``PrintResult.__get__(self, instance, cls)`` method, when you do ``cal.add_two``, it first invokes the descriptor protocal, and returns ``PrintResult(Calculator.add_two).__get__(self, cal, Calculator)`` and \n"
   ]
  },
  {
   "cell_type": "code",
   "execution_count": 11,
   "metadata": {},
   "outputs": [
    {
     "name": "stdout",
     "output_type": "stream",
     "text": [
      "<__main__.PrintResult object at 0x109548ed0> <__main__.Calculator object at 0x109b27510> <class '__main__.Calculator'>\n",
      "result is 3\n"
     ]
    },
    {
     "data": {
      "text/plain": [
       "3"
      ]
     },
     "execution_count": 11,
     "metadata": {},
     "output_type": "execute_result"
    }
   ],
   "source": [
    "from __future__ import print_function\n",
    "import types\n",
    "\n",
    "\n",
    "class PrintResult(object):\n",
    "    def __init__(self, func):\n",
    "        self._func = func\n",
    "\n",
    "    def __call__(self, *args, **kwargs):\n",
    "        result = self._func(*args, **kwargs)\n",
    "        print(\"result is {}\".format(result))\n",
    "        return result\n",
    "\n",
    "    def __get__(self, instance, cls):\n",
    "        print(self, instance, cls)\n",
    "        if instance is None:\n",
    "            return self\n",
    "        else:\n",
    "            return types.MethodType(self, instance)\n",
    "\n",
    "# Everything above is exactly the same as the previous one\n",
    "\n",
    "class Calculator(object):\n",
    "    def add_two(self, a, b):\n",
    "        return a + b\n",
    "\n",
    "Calculator.add_two = PrintResult(Calculator.add_two)\n",
    "\n",
    "cal = Calculator()\n",
    "cal.add_two(1, 2)"
   ]
  },
  {
   "cell_type": "code",
   "execution_count": null,
   "metadata": {},
   "outputs": [],
   "source": []
  }
 ],
 "metadata": {
  "kernelspec": {
   "display_name": "Python 2",
   "language": "python",
   "name": "python2"
  },
  "language_info": {
   "codemirror_mode": {
    "name": "ipython",
    "version": 2
   },
   "file_extension": ".py",
   "mimetype": "text/x-python",
   "name": "python",
   "nbconvert_exporter": "python",
   "pygments_lexer": "ipython2",
   "version": "2.7.13"
  },
  "toc": {
   "base_numbering": 1,
   "nav_menu": {},
   "number_sections": true,
   "sideBar": true,
   "skip_h1_title": false,
   "title_cell": "Table of Contents",
   "title_sidebar": "Contents",
   "toc_cell": false,
   "toc_position": {},
   "toc_section_display": true,
   "toc_window_display": true
  }
 },
 "nbformat": 4,
 "nbformat_minor": 2
}
